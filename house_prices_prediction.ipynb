{
  "cells": [
    {
      "cell_type": "markdown",
      "metadata": {
        "id": "view-in-github",
        "colab_type": "text"
      },
      "source": [
        "<a href=\"https://colab.research.google.com/github/mehranommani/House_Prices_Predict/blob/main/house_prices_prediction.ipynb\" target=\"_parent\"><img src=\"https://colab.research.google.com/assets/colab-badge.svg\" alt=\"Open In Colab\"/></a>"
      ]
    },
    {
      "cell_type": "code",
      "source": [
        "!pip install -U pandas-profiling"
      ],
      "metadata": {
        "id": "JIx7dzX6YrTP"
      },
      "id": "JIx7dzX6YrTP",
      "execution_count": null,
      "outputs": []
    },
    {
      "cell_type": "code",
      "execution_count": 7,
      "id": "178b40d1",
      "metadata": {
        "id": "178b40d1"
      },
      "outputs": [],
      "source": [
        "import os\n",
        "import numpy as np\n",
        "import pandas as pd\n",
        "import ydata_profiling as pp\n",
        "from sklearn.model_selection import train_test_split\n",
        "from sklearn.preprocessing import StandardScaler, LabelEncoder"
      ]
    },
    {
      "cell_type": "code",
      "execution_count": 40,
      "id": "c7aaa2ba",
      "metadata": {
        "id": "c7aaa2ba"
      },
      "outputs": [],
      "source": [
        "train = pd.read_csv('/train.csv')\n",
        "test  = pd.read_csv('/test.csv')"
      ]
    },
    {
      "cell_type": "code",
      "execution_count": 36,
      "id": "3327d4a4",
      "metadata": {
        "colab": {
          "base_uri": "https://localhost:8080/",
          "height": 113,
          "referenced_widgets": [
            "c58099c7ae6a48fe8c4674a7b0842e7a",
            "cf716eb5e8c24ce4926240eb122260c7",
            "643e86d333bf474185bafcab9387f102",
            "916bceb183d04022b340b6ab597687b7",
            "13d395fdb05f40e6a2dbc75a1a7da903",
            "6dacba472b16462dbb576962f3dcc40b",
            "9f68b273e8b8437281f2ee871f780d19",
            "34a9618a2e5d4dce8d2db4cce2222b33",
            "9f08de1af8c9492bac1d1e08597cc57e",
            "76d3bde28d8f4d4ea1f0ca263b438982",
            "360e06db318c4e57aa89a4a96826bda7",
            "dbd75fbbc92c452da159723fc3a793ca",
            "aad378e63aaf4d558a493cb85a2a4cb7",
            "681e2659da2a4fb08e45147662da0314",
            "715adc78c99e4b3d9ebc8d2da2894dc9",
            "1d4806465ecb45eda0a83dbcf8a1c59f",
            "b17414f84d7049ffa1132fd9a95803e3",
            "598bb4d4bfdb48459e56c356797d8cda",
            "180090071ba6466ca5bc9e26212d988b",
            "79bdaa6bfe4344b09f3a5d90a251d6a4",
            "9f1a504bdf3a4ef6bba78669b6de1967",
            "d89de87d950e49a0919b1242b7c9f49d",
            "c8b4e0cc0f164fe8b1f103253816ac3c",
            "932da0eca8cc4749b3832383972da7f6",
            "bc2cceb2af8949f9a8d3bfadcc726368",
            "af5ffcdc2a8a46459a9b8d00736cb27b",
            "f044449361c9490299d983a07ae1a1e9",
            "0841ac73804444659364f93b88de47d3",
            "78bc28d079244da0a97d68c22362c444",
            "c779e36fbdbb4f57a82be07c028825ce",
            "850202682bdb43e59d0eab8a0669db2e",
            "c7c844fe45c4458085cc6c253452f438",
            "b801d884e8c44d2cbc40f19ac4385a86"
          ]
        },
        "id": "3327d4a4",
        "outputId": "a5da0dba-2554-470e-c0a3-b8113413e6bc"
      },
      "outputs": [
        {
          "output_type": "display_data",
          "data": {
            "text/plain": [
              "Summarize dataset:   0%|          | 0/5 [00:00<?, ?it/s]"
            ],
            "application/vnd.jupyter.widget-view+json": {
              "version_major": 2,
              "version_minor": 0,
              "model_id": "c58099c7ae6a48fe8c4674a7b0842e7a"
            }
          },
          "metadata": {}
        },
        {
          "output_type": "display_data",
          "data": {
            "text/plain": [
              "Generate report structure:   0%|          | 0/1 [00:00<?, ?it/s]"
            ],
            "application/vnd.jupyter.widget-view+json": {
              "version_major": 2,
              "version_minor": 0,
              "model_id": "dbd75fbbc92c452da159723fc3a793ca"
            }
          },
          "metadata": {}
        },
        {
          "output_type": "display_data",
          "data": {
            "text/plain": [
              "Render HTML:   0%|          | 0/1 [00:00<?, ?it/s]"
            ],
            "application/vnd.jupyter.widget-view+json": {
              "version_major": 2,
              "version_minor": 0,
              "model_id": "c8b4e0cc0f164fe8b1f103253816ac3c"
            }
          },
          "metadata": {}
        }
      ],
      "source": [
        "# Generate a profile report for the 'train' DataFrame using the 'pp.ProfileReport' function\n",
        "# This profile report provides insights and statistics about the dataset, including data types, missing values, and more.\n",
        "# It can be helpful for data analysis and understanding the dataset's characteristics.\n",
        "pp.ProfileReport(train)"
      ]
    },
    {
      "cell_type": "code",
      "execution_count": 38,
      "id": "ab4df018",
      "metadata": {
        "id": "ab4df018"
      },
      "outputs": [],
      "source": [
        "def display_all(df):\n",
        "    with pd.option_context(\"display.max_rows\", 1000, \"display.max_columns\", 1000):\n",
        "        display(df)"
      ]
    },
    {
      "cell_type": "markdown",
      "id": "4964463a",
      "metadata": {
        "id": "4964463a"
      },
      "source": [
        "## Train and Target"
      ]
    },
    {
      "cell_type": "code",
      "execution_count": 41,
      "id": "270654cd",
      "metadata": {
        "id": "270654cd"
      },
      "outputs": [],
      "source": [
        "y = train[[\"Id\", \"SalePrice\"]]\n",
        "train = train.drop(\"SalePrice\", axis=1)"
      ]
    },
    {
      "cell_type": "code",
      "execution_count": 12,
      "id": "4b1e13d1",
      "metadata": {
        "id": "4b1e13d1"
      },
      "outputs": [],
      "source": [
        "# Combine the 'train' and 'test' DataFrames into a single DataFrame\n",
        "all_dfs = [train,test]\n",
        "all_df = pd.concat(all_dfs).reset_index(drop=True)"
      ]
    },
    {
      "cell_type": "code",
      "execution_count": 13,
      "id": "8dabd734",
      "metadata": {
        "id": "8dabd734"
      },
      "outputs": [],
      "source": [
        "# Display the percentage of missing values for each column\n",
        "display_all(all_df.isnull().sum()/all_df.shape[0])"
      ]
    },
    {
      "cell_type": "code",
      "execution_count": 14,
      "id": "97da1077",
      "metadata": {
        "id": "97da1077"
      },
      "outputs": [],
      "source": [
        "# Remove the missing values\n",
        "all_df.drop(['Alley','PoolQC','MiscFeature','Fence','FireplaceQu','Utilities'],axis=1,inplace=True)"
      ]
    },
    {
      "cell_type": "markdown",
      "id": "44e8b209",
      "metadata": {
        "id": "44e8b209"
      },
      "source": [
        "## Fill missing values"
      ]
    },
    {
      "cell_type": "code",
      "execution_count": 35,
      "id": "ba10d556",
      "metadata": {
        "id": "ba10d556"
      },
      "outputs": [],
      "source": [
        "all_df['LotFrontage'].fillna(value=all_df['LotFrontage'].median(),inplace=True)\n",
        "all_df['MasVnrType'].fillna(value='None',inplace=True)\n",
        "all_df['MasVnrArea'].fillna(0,inplace=True)\n",
        "all_df['BsmtCond'].fillna(value='TA',inplace=True)\n",
        "all_df['BsmtExposure'].fillna(value='No',inplace=True)\n",
        "all_df['Electrical'].fillna(value='SBrkr',inplace=True)\n",
        "all_df['BsmtFinType2'].fillna(value='Unf',inplace=True)\n",
        "all_df['GarageType'].fillna(value='Attchd',inplace=True)\n",
        "all_df['GarageYrBlt'].fillna(value=all_df['GarageYrBlt'].median(),inplace=True)\n",
        "all_df['GarageFinish'].fillna(value='Unf',inplace=True)\n",
        "all_df['GarageQual'].fillna(value='TA',inplace=True)\n",
        "all_df['GarageCond'].fillna(value='TA',inplace=True)\n",
        "all_df['BsmtFinType1'].fillna(value='NO',inplace=True)\n",
        "all_df['BsmtQual'].fillna(value='No',inplace=True)\n",
        "all_df['BsmtFullBath'].fillna(value=all_df['BsmtFullBath'].median(),inplace=True)\n",
        "all_df['BsmtFinSF1'].fillna(value=all_df['BsmtFinSF1'].median(),inplace=True)\n",
        "all_df['BsmtFinSF2'].fillna(value=0,inplace=True)\n",
        "all_df['BsmtUnfSF'].fillna(value=0,inplace=True)\n",
        "all_df['TotalBsmtSF'].fillna(value=all_df['TotalBsmtSF'].median(),inplace=True)\n",
        "all_df['BsmtHalfBath'].fillna(value=0,inplace=True)\n",
        "all_df['GarageCars'].fillna(value=all_df['GarageCars'].median(),inplace=True)\n",
        "all_df['GarageArea'].fillna(value=all_df['GarageArea'].median(),inplace=True)"
      ]
    },
    {
      "cell_type": "markdown",
      "id": "b4abd987",
      "metadata": {
        "id": "b4abd987"
      },
      "source": [
        "transform categorical columns into numerical representations using label encoding"
      ]
    },
    {
      "cell_type": "code",
      "execution_count": null,
      "id": "5dd24753",
      "metadata": {
        "id": "5dd24753"
      },
      "outputs": [],
      "source": [
        "labelencoder=LabelEncoder()\n",
        "\n",
        "all_df['MSZoning']      = labelencoder.fit_transform(all_df['MSZoning'].astype(str))\n",
        "all_df['Exterior1st']   = labelencoder.fit_transform(all_df['Exterior1st'].astype(str))\n",
        "all_df['Exterior2nd']   = labelencoder.fit_transform(all_df['Exterior2nd'].astype(str))\n",
        "all_df['KitchenQual']   = labelencoder.fit_transform(all_df['KitchenQual'].astype(str))\n",
        "all_df['Functional']    = labelencoder.fit_transform(all_df['Functional'].astype(str))\n",
        "all_df['SaleType']      = labelencoder.fit_transform(all_df['SaleType'].astype(str))\n",
        "all_df['Street']        = labelencoder.fit_transform(all_df['Street'])\n",
        "all_df['LotShape']      = labelencoder.fit_transform(all_df['LotShape'])\n",
        "all_df['LandContour']   = labelencoder.fit_transform(all_df['LandContour'])\n",
        "all_df['LotConfig']     = labelencoder.fit_transform(all_df['LotConfig'])\n",
        "all_df['LandSlope']     = labelencoder.fit_transform(all_df['LandSlope'])\n",
        "all_df['Neighborhood']  = labelencoder.fit_transform(all_df['Neighborhood'])\n",
        "all_df['Condition1']    = labelencoder.fit_transform(all_df['Condition1'])\n",
        "all_df['Condition2']    = labelencoder.fit_transform(all_df['Condition2'])\n",
        "all_df['BldgType']      = labelencoder.fit_transform(all_df['BldgType'])\n",
        "all_df['HouseStyle']    = labelencoder.fit_transform(all_df['HouseStyle'])\n",
        "all_df['RoofStyle']     = labelencoder.fit_transform(all_df['RoofStyle'])\n",
        "all_df['RoofMatl']      = labelencoder.fit_transform(all_df['RoofMatl'])\n",
        "all_df['MasVnrType']    = labelencoder.fit_transform(all_df['MasVnrType'])\n",
        "all_df['ExterQual']     = labelencoder.fit_transform(all_df['ExterQual'])\n",
        "all_df['ExterCond']     = labelencoder.fit_transform(all_df['ExterCond'])\n",
        "all_df['Foundation']    = labelencoder.fit_transform(all_df['Foundation'])\n",
        "all_df['BsmtQual']      = labelencoder.fit_transform(all_df['BsmtQual'])\n",
        "all_df['BsmtCond']      = labelencoder.fit_transform(all_df['BsmtCond'])\n",
        "all_df['BsmtExposure']  = labelencoder.fit_transform(all_df['BsmtExposure'])\n",
        "all_df['BsmtFinType1']  = labelencoder.fit_transform(all_df['BsmtFinType1'])\n",
        "all_df['BsmtFinType2']  = labelencoder.fit_transform(all_df['BsmtFinType2'])\n",
        "all_df['Heating']       = labelencoder.fit_transform(all_df['Heating'])\n",
        "all_df['HeatingQC']     = labelencoder.fit_transform(all_df['HeatingQC'])\n",
        "all_df['CentralAir']    = labelencoder.fit_transform(all_df['CentralAir'])\n",
        "all_df['Electrical']    = labelencoder.fit_transform(all_df['Electrical'])\n",
        "all_df['GarageType']    = labelencoder.fit_transform(all_df['GarageType'])\n",
        "all_df['GarageFinish']  = labelencoder.fit_transform(all_df['GarageFinish'])\n",
        "all_df['GarageQual']    = labelencoder.fit_transform(all_df['GarageQual'])\n",
        "all_df['GarageCond']    = labelencoder.fit_transform(all_df['GarageCond'])\n",
        "all_df['PavedDrive']    = labelencoder.fit_transform(all_df['PavedDrive'])\n",
        "all_df['SaleCondition'] = labelencoder.fit_transform(all_df['SaleCondition'])"
      ]
    },
    {
      "cell_type": "markdown",
      "id": "75e68da0",
      "metadata": {
        "id": "75e68da0"
      },
      "source": [
        "need to scale in case we want to use linear models"
      ]
    },
    {
      "cell_type": "code",
      "execution_count": null,
      "id": "ffed6036",
      "metadata": {
        "id": "ffed6036"
      },
      "outputs": [],
      "source": [
        "Scaler       = StandardScaler()\n",
        "all_scaled   = pd.DataFrame(Scaler.fit_transform(all_df))\n",
        "train_scaled = pd.DataFrame(all_scaled[:1460])\n",
        "test_scaled  = pd.DataFrame(all_scaled[1460:2920])"
      ]
    },
    {
      "cell_type": "code",
      "execution_count": null,
      "id": "e223c4c5",
      "metadata": {
        "id": "e223c4c5"
      },
      "outputs": [],
      "source": [
        "X = train_scaled\n",
        "X_train, X_test, y_train, y_test = train_test_split(X, y['SalePrice'], test_size=0.1, random_state=42)"
      ]
    },
    {
      "cell_type": "markdown",
      "id": "e57be06d",
      "metadata": {
        "id": "e57be06d"
      },
      "source": [
        "# XGBoost"
      ]
    },
    {
      "cell_type": "code",
      "execution_count": null,
      "id": "debc8b98",
      "metadata": {
        "id": "debc8b98"
      },
      "outputs": [],
      "source": [
        "from xgboost import XGBRegressor\n",
        "XGB = XGBRegressor(max_depth=2,learning_rate=0.1,n_estimators=1000,reg_alpha=0.001,reg_lambda=0.000001,n_jobs=-1,min_child_weight=3)\n",
        "XGB.fit(X_train,y_train)"
      ]
    },
    {
      "cell_type": "markdown",
      "id": "2f1c5890",
      "metadata": {
        "id": "2f1c5890"
      },
      "source": [
        "# Light GBM"
      ]
    },
    {
      "cell_type": "code",
      "execution_count": null,
      "id": "4a5f8018",
      "metadata": {
        "id": "4a5f8018"
      },
      "outputs": [],
      "source": [
        "from lightgbm import LGBMRegressor\n",
        "LGBM = LGBMRegressor(n_estimators = 1000)\n",
        "LGBM.fit(X_train,y_train)"
      ]
    },
    {
      "cell_type": "markdown",
      "id": "90205ade",
      "metadata": {
        "id": "90205ade"
      },
      "source": [
        "## our scores"
      ]
    },
    {
      "cell_type": "code",
      "execution_count": null,
      "id": "93a94489",
      "metadata": {
        "id": "93a94489"
      },
      "outputs": [],
      "source": [
        "print (\"Training score:\",XGB.score(X_train,y_train), \"Test Score:\",XGB.score(X_test,y_test))\n",
        "print (\"Training score:\",LGBM.score(X_train,y_train),\"Test Score:\",LGBM.score(X_test,y_test))"
      ]
    },
    {
      "cell_type": "markdown",
      "id": "c7eab9c2",
      "metadata": {
        "id": "c7eab9c2"
      },
      "source": [
        "# blend 50% + 50%"
      ]
    },
    {
      "cell_type": "code",
      "execution_count": null,
      "id": "e6413f1c",
      "metadata": {
        "id": "e6413f1c"
      },
      "outputs": [],
      "source": [
        "# Predict the sale prices\n",
        "y_pred_xgb  = pd.DataFrame( XGB.predict(test_scaled))\n",
        "y_pred_lgbm = pd.DataFrame(LGBM.predict(test_scaled))\n",
        "\n",
        "y_pred=pd.DataFrame()\n",
        "\n",
        "# Combine predictions from XGBoost and LightGBM using equal weights\n",
        "y_pred['SalePrice'] = 0.5 * y_pred_xgb[0] + 0.5 * y_pred_lgbm[0]\n",
        "y_pred['Id'] = test['Id']"
      ]
    },
    {
      "cell_type": "markdown",
      "id": "1560393c",
      "metadata": {
        "id": "1560393c"
      },
      "source": [
        "# finally the submission"
      ]
    },
    {
      "cell_type": "code",
      "execution_count": null,
      "id": "00038e30",
      "metadata": {
        "id": "00038e30"
      },
      "outputs": [],
      "source": [
        "y_pred.to_csv('house_price_blend.csv',index=False)"
      ]
    },
    {
      "cell_type": "markdown",
      "id": "c552467f",
      "metadata": {
        "id": "c552467f"
      },
      "source": [
        "# Visualise the data to help us understand the current state"
      ]
    },
    {
      "cell_type": "code",
      "execution_count": 32,
      "id": "407c5845",
      "metadata": {
        "id": "407c5845"
      },
      "outputs": [],
      "source": [
        "%matplotlib inline\n",
        "import yellowbrick\n",
        "from yellowbrick.regressor import ResidualsPlot\n",
        "from yellowbrick.regressor import PredictionError\n",
        "from yellowbrick.model_selection import ValidationCurve"
      ]
    },
    {
      "cell_type": "code",
      "execution_count": 33,
      "id": "869009c6",
      "metadata": {
        "colab": {
          "base_uri": "https://localhost:8080/",
          "height": 501
        },
        "id": "869009c6",
        "outputId": "fa392f29-2e73-415c-e085-c231a45e22fd"
      },
      "outputs": [
        {
          "output_type": "execute_result",
          "data": {
            "text/plain": [
              "0.920257100589606"
            ]
          },
          "metadata": {},
          "execution_count": 33
        },
        {
          "output_type": "display_data",
          "data": {
            "text/plain": [
              "<Figure size 800x550 with 2 Axes>"
            ],
            "image/png": "[encoded data removed]"
          },
          "metadata": {}
        }
      ],
      "source": [
        "visualizer = ResidualsPlot(XGB)\n",
        "visualizer.fit(X_train, y_train)\n",
        "visualizer.score(X_test, y_test)\n"
      ]
    },
    {
      "cell_type": "code",
      "execution_count": 34,
      "id": "5c577f2b",
      "metadata": {
        "colab": {
          "base_uri": "https://localhost:8080/",
          "height": 501
        },
        "id": "5c577f2b",
        "outputId": "23419a80-3c4d-4781-fae0-fd06253b04fb"
      },
      "outputs": [
        {
          "output_type": "execute_result",
          "data": {
            "text/plain": [
              "0.8495537369561041"
            ]
          },
          "metadata": {},
          "execution_count": 34
        },
        {
          "output_type": "display_data",
          "data": {
            "text/plain": [
              "<Figure size 800x550 with 1 Axes>"
            ],
            "image/png": "[encoded data removed]"
          },
          "metadata": {}
        }
      ],
      "source": [
        "from sklearn.linear_model import Lasso\n",
        "model = Lasso(alpha=10)\n",
        "visualizer = PredictionError(model)\n",
        "\n",
        "visualizer.fit(X_train, y_train)\n",
        "visualizer.score(X_test, y_test)"
      ]
    }
  ],
  "metadata": {
    "kernelspec": {
      "display_name": "Python 3",
      "name": "python3"
    },
    "language_info": {
      "codemirror_mode": {
        "name": "ipython",
        "version": 3
      },
      "file_extension": ".py",
      "mimetype": "text/x-python",
      "name": "python",
      "nbconvert_exporter": "python",
      "pygments_lexer": "ipython3",
      "version": "3.10.11"
    },
    "colab": {
      "provenance": [],
      "gpuType": "T4",
      "include_colab_link": true
    },
    "accelerator": "GPU",
    "widgets": {
      "application/vnd.jupyter.widget-state+json": {
        "c58099c7ae6a48fe8c4674a7b0842e7a": {
          "model_module": "@jupyter-widgets/controls",
          "model_name": "HBoxModel",
          "model_module_version": "1.5.0",
          "state": {
            "_dom_classes": [],
            "_model_module": "@jupyter-widgets/controls",
            "_model_module_version": "1.5.0",
            "_model_name": "HBoxModel",
            "_view_count": null,
            "_view_module": "@jupyter-widgets/controls",
            "_view_module_version": "1.5.0",
            "_view_name": "HBoxView",
            "box_style": "",
            "children": [
              "IPY_MODEL_cf716eb5e8c24ce4926240eb122260c7",
              "IPY_MODEL_643e86d333bf474185bafcab9387f102",
              "IPY_MODEL_916bceb183d04022b340b6ab597687b7"
            ],
            "layout": "IPY_MODEL_13d395fdb05f40e6a2dbc75a1a7da903"
          }
        },
        "cf716eb5e8c24ce4926240eb122260c7": {
          "model_module": "@jupyter-widgets/controls",
          "model_name": "HTMLModel",
          "model_module_version": "1.5.0",
          "state": {
            "_dom_classes": [],
            "_model_module": "@jupyter-widgets/controls",
            "_model_module_version": "1.5.0",
            "_model_name": "HTMLModel",
            "_view_count": null,
            "_view_module": "@jupyter-widgets/controls",
            "_view_module_version": "1.5.0",
            "_view_name": "HTMLView",
            "description": "",
            "description_tooltip": null,
            "layout": "IPY_MODEL_6dacba472b16462dbb576962f3dcc40b",
            "placeholder": "​",
            "style": "IPY_MODEL_9f68b273e8b8437281f2ee871f780d19",
            "value": "Summarize dataset: 100%"
          }
        },
        "643e86d333bf474185bafcab9387f102": {
          "model_module": "@jupyter-widgets/controls",
          "model_name": "FloatProgressModel",
          "model_module_version": "1.5.0",
          "state": {
            "_dom_classes": [],
            "_model_module": "@jupyter-widgets/controls",
            "_model_module_version": "1.5.0",
            "_model_name": "FloatProgressModel",
            "_view_count": null,
            "_view_module": "@jupyter-widgets/controls",
            "_view_module_version": "1.5.0",
            "_view_name": "ProgressView",
            "bar_style": "success",
            "description": "",
            "description_tooltip": null,
            "layout": "IPY_MODEL_34a9618a2e5d4dce8d2db4cce2222b33",
            "max": 5,
            "min": 0,
            "orientation": "horizontal",
            "style": "IPY_MODEL_9f08de1af8c9492bac1d1e08597cc57e",
            "value": 5
          }
        },
        "916bceb183d04022b340b6ab597687b7": {
          "model_module": "@jupyter-widgets/controls",
          "model_name": "HTMLModel",
          "model_module_version": "1.5.0",
          "state": {
            "_dom_classes": [],
            "_model_module": "@jupyter-widgets/controls",
            "_model_module_version": "1.5.0",
            "_model_name": "HTMLModel",
            "_view_count": null,
            "_view_module": "@jupyter-widgets/controls",
            "_view_module_version": "1.5.0",
            "_view_name": "HTMLView",
            "description": "",
            "description_tooltip": null,
            "layout": "IPY_MODEL_76d3bde28d8f4d4ea1f0ca263b438982",
            "placeholder": "​",
            "style": "IPY_MODEL_360e06db318c4e57aa89a4a96826bda7",
            "value": " 931/931 [03:41&lt;00:00,  2.52it/s, Completed]"
          }
        },
        "13d395fdb05f40e6a2dbc75a1a7da903": {
          "model_module": "@jupyter-widgets/base",
          "model_name": "LayoutModel",
          "model_module_version": "1.2.0",
          "state": {
            "_model_module": "@jupyter-widgets/base",
            "_model_module_version": "1.2.0",
            "_model_name": "LayoutModel",
            "_view_count": null,
            "_view_module": "@jupyter-widgets/base",
            "_view_module_version": "1.2.0",
            "_view_name": "LayoutView",
            "align_content": null,
            "align_items": null,
            "align_self": null,
            "border": null,
            "bottom": null,
            "display": null,
            "flex": null,
            "flex_flow": null,
            "grid_area": null,
            "grid_auto_columns": null,
            "grid_auto_flow": null,
            "grid_auto_rows": null,
            "grid_column": null,
            "grid_gap": null,
            "grid_row": null,
            "grid_template_areas": null,
            "grid_template_columns": null,
            "grid_template_rows": null,
            "height": null,
            "justify_content": null,
            "justify_items": null,
            "left": null,
            "margin": null,
            "max_height": null,
            "max_width": null,
            "min_height": null,
            "min_width": null,
            "object_fit": null,
            "object_position": null,
            "order": null,
            "overflow": null,
            "overflow_x": null,
            "overflow_y": null,
            "padding": null,
            "right": null,
            "top": null,
            "visibility": null,
            "width": null
          }
        },
        "6dacba472b16462dbb576962f3dcc40b": {
          "model_module": "@jupyter-widgets/base",
          "model_name": "LayoutModel",
          "model_module_version": "1.2.0",
          "state": {
            "_model_module": "@jupyter-widgets/base",
            "_model_module_version": "1.2.0",
            "_model_name": "LayoutModel",
            "_view_count": null,
            "_view_module": "@jupyter-widgets/base",
            "_view_module_version": "1.2.0",
            "_view_name": "LayoutView",
            "align_content": null,
            "align_items": null,
            "align_self": null,
            "border": null,
            "bottom": null,
            "display": null,
            "flex": null,
            "flex_flow": null,
            "grid_area": null,
            "grid_auto_columns": null,
            "grid_auto_flow": null,
            "grid_auto_rows": null,
            "grid_column": null,
            "grid_gap": null,
            "grid_row": null,
            "grid_template_areas": null,
            "grid_template_columns": null,
            "grid_template_rows": null,
            "height": null,
            "justify_content": null,
            "justify_items": null,
            "left": null,
            "margin": null,
            "max_height": null,
            "max_width": null,
            "min_height": null,
            "min_width": null,
            "object_fit": null,
            "object_position": null,
            "order": null,
            "overflow": null,
            "overflow_x": null,
            "overflow_y": null,
            "padding": null,
            "right": null,
            "top": null,
            "visibility": null,
            "width": null
          }
        },
        "9f68b273e8b8437281f2ee871f780d19": {
          "model_module": "@jupyter-widgets/controls",
          "model_name": "DescriptionStyleModel",
          "model_module_version": "1.5.0",
          "state": {
            "_model_module": "@jupyter-widgets/controls",
            "_model_module_version": "1.5.0",
            "_model_name": "DescriptionStyleModel",
            "_view_count": null,
            "_view_module": "@jupyter-widgets/base",
            "_view_module_version": "1.2.0",
            "_view_name": "StyleView",
            "description_width": ""
          }
        },
        "34a9618a2e5d4dce8d2db4cce2222b33": {
          "model_module": "@jupyter-widgets/base",
          "model_name": "LayoutModel",
          "model_module_version": "1.2.0",
          "state": {
            "_model_module": "@jupyter-widgets/base",
            "_model_module_version": "1.2.0",
            "_model_name": "LayoutModel",
            "_view_count": null,
            "_view_module": "@jupyter-widgets/base",
            "_view_module_version": "1.2.0",
            "_view_name": "LayoutView",
            "align_content": null,
            "align_items": null,
            "align_self": null,
            "border": null,
            "bottom": null,
            "display": null,
            "flex": null,
            "flex_flow": null,
            "grid_area": null,
            "grid_auto_columns": null,
            "grid_auto_flow": null,
            "grid_auto_rows": null,
            "grid_column": null,
            "grid_gap": null,
            "grid_row": null,
            "grid_template_areas": null,
            "grid_template_columns": null,
            "grid_template_rows": null,
            "height": null,
            "justify_content": null,
            "justify_items": null,
            "left": null,
            "margin": null,
            "max_height": null,
            "max_width": null,
            "min_height": null,
            "min_width": null,
            "object_fit": null,
            "object_position": null,
            "order": null,
            "overflow": null,
            "overflow_x": null,
            "overflow_y": null,
            "padding": null,
            "right": null,
            "top": null,
            "visibility": null,
            "width": null
          }
        },
        "9f08de1af8c9492bac1d1e08597cc57e": {
          "model_module": "@jupyter-widgets/controls",
          "model_name": "ProgressStyleModel",
          "model_module_version": "1.5.0",
          "state": {
            "_model_module": "@jupyter-widgets/controls",
            "_model_module_version": "1.5.0",
            "_model_name": "ProgressStyleModel",
            "_view_count": null,
            "_view_module": "@jupyter-widgets/base",
            "_view_module_version": "1.2.0",
            "_view_name": "StyleView",
            "bar_color": null,
            "description_width": ""
          }
        },
        "76d3bde28d8f4d4ea1f0ca263b438982": {
          "model_module": "@jupyter-widgets/base",
          "model_name": "LayoutModel",
          "model_module_version": "1.2.0",
          "state": {
            "_model_module": "@jupyter-widgets/base",
            "_model_module_version": "1.2.0",
            "_model_name": "LayoutModel",
            "_view_count": null,
            "_view_module": "@jupyter-widgets/base",
            "_view_module_version": "1.2.0",
            "_view_name": "LayoutView",
            "align_content": null,
            "align_items": null,
            "align_self": null,
            "border": null,
            "bottom": null,
            "display": null,
            "flex": null,
            "flex_flow": null,
            "grid_area": null,
            "grid_auto_columns": null,
            "grid_auto_flow": null,
            "grid_auto_rows": null,
            "grid_column": null,
            "grid_gap": null,
            "grid_row": null,
            "grid_template_areas": null,
            "grid_template_columns": null,
            "grid_template_rows": null,
            "height": null,
            "justify_content": null,
            "justify_items": null,
            "left": null,
            "margin": null,
            "max_height": null,
            "max_width": null,
            "min_height": null,
            "min_width": null,
            "object_fit": null,
            "object_position": null,
            "order": null,
            "overflow": null,
            "overflow_x": null,
            "overflow_y": null,
            "padding": null,
            "right": null,
            "top": null,
            "visibility": null,
            "width": null
          }
        },
        "360e06db318c4e57aa89a4a96826bda7": {
          "model_module": "@jupyter-widgets/controls",
          "model_name": "DescriptionStyleModel",
          "model_module_version": "1.5.0",
          "state": {
            "_model_module": "@jupyter-widgets/controls",
            "_model_module_version": "1.5.0",
            "_model_name": "DescriptionStyleModel",
            "_view_count": null,
            "_view_module": "@jupyter-widgets/base",
            "_view_module_version": "1.2.0",
            "_view_name": "StyleView",
            "description_width": ""
          }
        },
        "dbd75fbbc92c452da159723fc3a793ca": {
          "model_module": "@jupyter-widgets/controls",
          "model_name": "HBoxModel",
          "model_module_version": "1.5.0",
          "state": {
            "_dom_classes": [],
            "_model_module": "@jupyter-widgets/controls",
            "_model_module_version": "1.5.0",
            "_model_name": "HBoxModel",
            "_view_count": null,
            "_view_module": "@jupyter-widgets/controls",
            "_view_module_version": "1.5.0",
            "_view_name": "HBoxView",
            "box_style": "",
            "children": [
              "IPY_MODEL_aad378e63aaf4d558a493cb85a2a4cb7",
              "IPY_MODEL_681e2659da2a4fb08e45147662da0314",
              "IPY_MODEL_715adc78c99e4b3d9ebc8d2da2894dc9"
            ],
            "layout": "IPY_MODEL_1d4806465ecb45eda0a83dbcf8a1c59f"
          }
        },
        "aad378e63aaf4d558a493cb85a2a4cb7": {
          "model_module": "@jupyter-widgets/controls",
          "model_name": "HTMLModel",
          "model_module_version": "1.5.0",
          "state": {
            "_dom_classes": [],
            "_model_module": "@jupyter-widgets/controls",
            "_model_module_version": "1.5.0",
            "_model_name": "HTMLModel",
            "_view_count": null,
            "_view_module": "@jupyter-widgets/controls",
            "_view_module_version": "1.5.0",
            "_view_name": "HTMLView",
            "description": "",
            "description_tooltip": null,
            "layout": "IPY_MODEL_b17414f84d7049ffa1132fd9a95803e3",
            "placeholder": "​",
            "style": "IPY_MODEL_598bb4d4bfdb48459e56c356797d8cda",
            "value": "Generate report structure: 100%"
          }
        },
        "681e2659da2a4fb08e45147662da0314": {
          "model_module": "@jupyter-widgets/controls",
          "model_name": "FloatProgressModel",
          "model_module_version": "1.5.0",
          "state": {
            "_dom_classes": [],
            "_model_module": "@jupyter-widgets/controls",
            "_model_module_version": "1.5.0",
            "_model_name": "FloatProgressModel",
            "_view_count": null,
            "_view_module": "@jupyter-widgets/controls",
            "_view_module_version": "1.5.0",
            "_view_name": "ProgressView",
            "bar_style": "success",
            "description": "",
            "description_tooltip": null,
            "layout": "IPY_MODEL_180090071ba6466ca5bc9e26212d988b",
            "max": 1,
            "min": 0,
            "orientation": "horizontal",
            "style": "IPY_MODEL_79bdaa6bfe4344b09f3a5d90a251d6a4",
            "value": 1
          }
        },
        "715adc78c99e4b3d9ebc8d2da2894dc9": {
          "model_module": "@jupyter-widgets/controls",
          "model_name": "HTMLModel",
          "model_module_version": "1.5.0",
          "state": {
            "_dom_classes": [],
            "_model_module": "@jupyter-widgets/controls",
            "_model_module_version": "1.5.0",
            "_model_name": "HTMLModel",
            "_view_count": null,
            "_view_module": "@jupyter-widgets/controls",
            "_view_module_version": "1.5.0",
            "_view_name": "HTMLView",
            "description": "",
            "description_tooltip": null,
            "layout": "IPY_MODEL_9f1a504bdf3a4ef6bba78669b6de1967",
            "placeholder": "​",
            "style": "IPY_MODEL_d89de87d950e49a0919b1242b7c9f49d",
            "value": " 1/1 [00:39&lt;00:00, 39.93s/it]"
          }
        },
        "1d4806465ecb45eda0a83dbcf8a1c59f": {
          "model_module": "@jupyter-widgets/base",
          "model_name": "LayoutModel",
          "model_module_version": "1.2.0",
          "state": {
            "_model_module": "@jupyter-widgets/base",
            "_model_module_version": "1.2.0",
            "_model_name": "LayoutModel",
            "_view_count": null,
            "_view_module": "@jupyter-widgets/base",
            "_view_module_version": "1.2.0",
            "_view_name": "LayoutView",
            "align_content": null,
            "align_items": null,
            "align_self": null,
            "border": null,
            "bottom": null,
            "display": null,
            "flex": null,
            "flex_flow": null,
            "grid_area": null,
            "grid_auto_columns": null,
            "grid_auto_flow": null,
            "grid_auto_rows": null,
            "grid_column": null,
            "grid_gap": null,
            "grid_row": null,
            "grid_template_areas": null,
            "grid_template_columns": null,
            "grid_template_rows": null,
            "height": null,
            "justify_content": null,
            "justify_items": null,
            "left": null,
            "margin": null,
            "max_height": null,
            "max_width": null,
            "min_height": null,
            "min_width": null,
            "object_fit": null,
            "object_position": null,
            "order": null,
            "overflow": null,
            "overflow_x": null,
            "overflow_y": null,
            "padding": null,
            "right": null,
            "top": null,
            "visibility": null,
            "width": null
          }
        },
        "b17414f84d7049ffa1132fd9a95803e3": {
          "model_module": "@jupyter-widgets/base",
          "model_name": "LayoutModel",
          "model_module_version": "1.2.0",
          "state": {
            "_model_module": "@jupyter-widgets/base",
            "_model_module_version": "1.2.0",
            "_model_name": "LayoutModel",
            "_view_count": null,
            "_view_module": "@jupyter-widgets/base",
            "_view_module_version": "1.2.0",
            "_view_name": "LayoutView",
            "align_content": null,
            "align_items": null,
            "align_self": null,
            "border": null,
            "bottom": null,
            "display": null,
            "flex": null,
            "flex_flow": null,
            "grid_area": null,
            "grid_auto_columns": null,
            "grid_auto_flow": null,
            "grid_auto_rows": null,
            "grid_column": null,
            "grid_gap": null,
            "grid_row": null,
            "grid_template_areas": null,
            "grid_template_columns": null,
            "grid_template_rows": null,
            "height": null,
            "justify_content": null,
            "justify_items": null,
            "left": null,
            "margin": null,
            "max_height": null,
            "max_width": null,
            "min_height": null,
            "min_width": null,
            "object_fit": null,
            "object_position": null,
            "order": null,
            "overflow": null,
            "overflow_x": null,
            "overflow_y": null,
            "padding": null,
            "right": null,
            "top": null,
            "visibility": null,
            "width": null
          }
        },
        "598bb4d4bfdb48459e56c356797d8cda": {
          "model_module": "@jupyter-widgets/controls",
          "model_name": "DescriptionStyleModel",
          "model_module_version": "1.5.0",
          "state": {
            "_model_module": "@jupyter-widgets/controls",
            "_model_module_version": "1.5.0",
            "_model_name": "DescriptionStyleModel",
            "_view_count": null,
            "_view_module": "@jupyter-widgets/base",
            "_view_module_version": "1.2.0",
            "_view_name": "StyleView",
            "description_width": ""
          }
        },
        "180090071ba6466ca5bc9e26212d988b": {
          "model_module": "@jupyter-widgets/base",
          "model_name": "LayoutModel",
          "model_module_version": "1.2.0",
          "state": {
            "_model_module": "@jupyter-widgets/base",
            "_model_module_version": "1.2.0",
            "_model_name": "LayoutModel",
            "_view_count": null,
            "_view_module": "@jupyter-widgets/base",
            "_view_module_version": "1.2.0",
            "_view_name": "LayoutView",
            "align_content": null,
            "align_items": null,
            "align_self": null,
            "border": null,
            "bottom": null,
            "display": null,
            "flex": null,
            "flex_flow": null,
            "grid_area": null,
            "grid_auto_columns": null,
            "grid_auto_flow": null,
            "grid_auto_rows": null,
            "grid_column": null,
            "grid_gap": null,
            "grid_row": null,
            "grid_template_areas": null,
            "grid_template_columns": null,
            "grid_template_rows": null,
            "height": null,
            "justify_content": null,
            "justify_items": null,
            "left": null,
            "margin": null,
            "max_height": null,
            "max_width": null,
            "min_height": null,
            "min_width": null,
            "object_fit": null,
            "object_position": null,
            "order": null,
            "overflow": null,
            "overflow_x": null,
            "overflow_y": null,
            "padding": null,
            "right": null,
            "top": null,
            "visibility": null,
            "width": null
          }
        },
        "79bdaa6bfe4344b09f3a5d90a251d6a4": {
          "model_module": "@jupyter-widgets/controls",
          "model_name": "ProgressStyleModel",
          "model_module_version": "1.5.0",
          "state": {
            "_model_module": "@jupyter-widgets/controls",
            "_model_module_version": "1.5.0",
            "_model_name": "ProgressStyleModel",
            "_view_count": null,
            "_view_module": "@jupyter-widgets/base",
            "_view_module_version": "1.2.0",
            "_view_name": "StyleView",
            "bar_color": null,
            "description_width": ""
          }
        },
        "9f1a504bdf3a4ef6bba78669b6de1967": {
          "model_module": "@jupyter-widgets/base",
          "model_name": "LayoutModel",
          "model_module_version": "1.2.0",
          "state": {
            "_model_module": "@jupyter-widgets/base",
            "_model_module_version": "1.2.0",
            "_model_name": "LayoutModel",
            "_view_count": null,
            "_view_module": "@jupyter-widgets/base",
            "_view_module_version": "1.2.0",
            "_view_name": "LayoutView",
            "align_content": null,
            "align_items": null,
            "align_self": null,
            "border": null,
            "bottom": null,
            "display": null,
            "flex": null,
            "flex_flow": null,
            "grid_area": null,
            "grid_auto_columns": null,
            "grid_auto_flow": null,
            "grid_auto_rows": null,
            "grid_column": null,
            "grid_gap": null,
            "grid_row": null,
            "grid_template_areas": null,
            "grid_template_columns": null,
            "grid_template_rows": null,
            "height": null,
            "justify_content": null,
            "justify_items": null,
            "left": null,
            "margin": null,
            "max_height": null,
            "max_width": null,
            "min_height": null,
            "min_width": null,
            "object_fit": null,
            "object_position": null,
            "order": null,
            "overflow": null,
            "overflow_x": null,
            "overflow_y": null,
            "padding": null,
            "right": null,
            "top": null,
            "visibility": null,
            "width": null
          }
        },
        "d89de87d950e49a0919b1242b7c9f49d": {
          "model_module": "@jupyter-widgets/controls",
          "model_name": "DescriptionStyleModel",
          "model_module_version": "1.5.0",
          "state": {
            "_model_module": "@jupyter-widgets/controls",
            "_model_module_version": "1.5.0",
            "_model_name": "DescriptionStyleModel",
            "_view_count": null,
            "_view_module": "@jupyter-widgets/base",
            "_view_module_version": "1.2.0",
            "_view_name": "StyleView",
            "description_width": ""
          }
        },
        "c8b4e0cc0f164fe8b1f103253816ac3c": {
          "model_module": "@jupyter-widgets/controls",
          "model_name": "HBoxModel",
          "model_module_version": "1.5.0",
          "state": {
            "_dom_classes": [],
            "_model_module": "@jupyter-widgets/controls",
            "_model_module_version": "1.5.0",
            "_model_name": "HBoxModel",
            "_view_count": null,
            "_view_module": "@jupyter-widgets/controls",
            "_view_module_version": "1.5.0",
            "_view_name": "HBoxView",
            "box_style": "",
            "children": [
              "IPY_MODEL_932da0eca8cc4749b3832383972da7f6",
              "IPY_MODEL_bc2cceb2af8949f9a8d3bfadcc726368",
              "IPY_MODEL_af5ffcdc2a8a46459a9b8d00736cb27b"
            ],
            "layout": "IPY_MODEL_f044449361c9490299d983a07ae1a1e9"
          }
        },
        "932da0eca8cc4749b3832383972da7f6": {
          "model_module": "@jupyter-widgets/controls",
          "model_name": "HTMLModel",
          "model_module_version": "1.5.0",
          "state": {
            "_dom_classes": [],
            "_model_module": "@jupyter-widgets/controls",
            "_model_module_version": "1.5.0",
            "_model_name": "HTMLModel",
            "_view_count": null,
            "_view_module": "@jupyter-widgets/controls",
            "_view_module_version": "1.5.0",
            "_view_name": "HTMLView",
            "description": "",
            "description_tooltip": null,
            "layout": "IPY_MODEL_0841ac73804444659364f93b88de47d3",
            "placeholder": "​",
            "style": "IPY_MODEL_78bc28d079244da0a97d68c22362c444",
            "value": "Render HTML: 100%"
          }
        },
        "bc2cceb2af8949f9a8d3bfadcc726368": {
          "model_module": "@jupyter-widgets/controls",
          "model_name": "FloatProgressModel",
          "model_module_version": "1.5.0",
          "state": {
            "_dom_classes": [],
            "_model_module": "@jupyter-widgets/controls",
            "_model_module_version": "1.5.0",
            "_model_name": "FloatProgressModel",
            "_view_count": null,
            "_view_module": "@jupyter-widgets/controls",
            "_view_module_version": "1.5.0",
            "_view_name": "ProgressView",
            "bar_style": "success",
            "description": "",
            "description_tooltip": null,
            "layout": "IPY_MODEL_c779e36fbdbb4f57a82be07c028825ce",
            "max": 1,
            "min": 0,
            "orientation": "horizontal",
            "style": "IPY_MODEL_850202682bdb43e59d0eab8a0669db2e",
            "value": 1
          }
        },
        "af5ffcdc2a8a46459a9b8d00736cb27b": {
          "model_module": "@jupyter-widgets/controls",
          "model_name": "HTMLModel",
          "model_module_version": "1.5.0",
          "state": {
            "_dom_classes": [],
            "_model_module": "@jupyter-widgets/controls",
            "_model_module_version": "1.5.0",
            "_model_name": "HTMLModel",
            "_view_count": null,
            "_view_module": "@jupyter-widgets/controls",
            "_view_module_version": "1.5.0",
            "_view_name": "HTMLView",
            "description": "",
            "description_tooltip": null,
            "layout": "IPY_MODEL_c7c844fe45c4458085cc6c253452f438",
            "placeholder": "​",
            "style": "IPY_MODEL_b801d884e8c44d2cbc40f19ac4385a86",
            "value": " 1/1 [00:24&lt;00:00, 24.52s/it]"
          }
        },
        "f044449361c9490299d983a07ae1a1e9": {
          "model_module": "@jupyter-widgets/base",
          "model_name": "LayoutModel",
          "model_module_version": "1.2.0",
          "state": {
            "_model_module": "@jupyter-widgets/base",
            "_model_module_version": "1.2.0",
            "_model_name": "LayoutModel",
            "_view_count": null,
            "_view_module": "@jupyter-widgets/base",
            "_view_module_version": "1.2.0",
            "_view_name": "LayoutView",
            "align_content": null,
            "align_items": null,
            "align_self": null,
            "border": null,
            "bottom": null,
            "display": null,
            "flex": null,
            "flex_flow": null,
            "grid_area": null,
            "grid_auto_columns": null,
            "grid_auto_flow": null,
            "grid_auto_rows": null,
            "grid_column": null,
            "grid_gap": null,
            "grid_row": null,
            "grid_template_areas": null,
            "grid_template_columns": null,
            "grid_template_rows": null,
            "height": null,
            "justify_content": null,
            "justify_items": null,
            "left": null,
            "margin": null,
            "max_height": null,
            "max_width": null,
            "min_height": null,
            "min_width": null,
            "object_fit": null,
            "object_position": null,
            "order": null,
            "overflow": null,
            "overflow_x": null,
            "overflow_y": null,
            "padding": null,
            "right": null,
            "top": null,
            "visibility": null,
            "width": null
          }
        },
        "0841ac73804444659364f93b88de47d3": {
          "model_module": "@jupyter-widgets/base",
          "model_name": "LayoutModel",
          "model_module_version": "1.2.0",
          "state": {
            "_model_module": "@jupyter-widgets/base",
            "_model_module_version": "1.2.0",
            "_model_name": "LayoutModel",
            "_view_count": null,
            "_view_module": "@jupyter-widgets/base",
            "_view_module_version": "1.2.0",
            "_view_name": "LayoutView",
            "align_content": null,
            "align_items": null,
            "align_self": null,
            "border": null,
            "bottom": null,
            "display": null,
            "flex": null,
            "flex_flow": null,
            "grid_area": null,
            "grid_auto_columns": null,
            "grid_auto_flow": null,
            "grid_auto_rows": null,
            "grid_column": null,
            "grid_gap": null,
            "grid_row": null,
            "grid_template_areas": null,
            "grid_template_columns": null,
            "grid_template_rows": null,
            "height": null,
            "justify_content": null,
            "justify_items": null,
            "left": null,
            "margin": null,
            "max_height": null,
            "max_width": null,
            "min_height": null,
            "min_width": null,
            "object_fit": null,
            "object_position": null,
            "order": null,
            "overflow": null,
            "overflow_x": null,
            "overflow_y": null,
            "padding": null,
            "right": null,
            "top": null,
            "visibility": null,
            "width": null
          }
        },
        "78bc28d079244da0a97d68c22362c444": {
          "model_module": "@jupyter-widgets/controls",
          "model_name": "DescriptionStyleModel",
          "model_module_version": "1.5.0",
          "state": {
            "_model_module": "@jupyter-widgets/controls",
            "_model_module_version": "1.5.0",
            "_model_name": "DescriptionStyleModel",
            "_view_count": null,
            "_view_module": "@jupyter-widgets/base",
            "_view_module_version": "1.2.0",
            "_view_name": "StyleView",
            "description_width": ""
          }
        },
        "c779e36fbdbb4f57a82be07c028825ce": {
          "model_module": "@jupyter-widgets/base",
          "model_name": "LayoutModel",
          "model_module_version": "1.2.0",
          "state": {
            "_model_module": "@jupyter-widgets/base",
            "_model_module_version": "1.2.0",
            "_model_name": "LayoutModel",
            "_view_count": null,
            "_view_module": "@jupyter-widgets/base",
            "_view_module_version": "1.2.0",
            "_view_name": "LayoutView",
            "align_content": null,
            "align_items": null,
            "align_self": null,
            "border": null,
            "bottom": null,
            "display": null,
            "flex": null,
            "flex_flow": null,
            "grid_area": null,
            "grid_auto_columns": null,
            "grid_auto_flow": null,
            "grid_auto_rows": null,
            "grid_column": null,
            "grid_gap": null,
            "grid_row": null,
            "grid_template_areas": null,
            "grid_template_columns": null,
            "grid_template_rows": null,
            "height": null,
            "justify_content": null,
            "justify_items": null,
            "left": null,
            "margin": null,
            "max_height": null,
            "max_width": null,
            "min_height": null,
            "min_width": null,
            "object_fit": null,
            "object_position": null,
            "order": null,
            "overflow": null,
            "overflow_x": null,
            "overflow_y": null,
            "padding": null,
            "right": null,
            "top": null,
            "visibility": null,
            "width": null
          }
        },
        "850202682bdb43e59d0eab8a0669db2e": {
          "model_module": "@jupyter-widgets/controls",
          "model_name": "ProgressStyleModel",
          "model_module_version": "1.5.0",
          "state": {
            "_model_module": "@jupyter-widgets/controls",
            "_model_module_version": "1.5.0",
            "_model_name": "ProgressStyleModel",
            "_view_count": null,
            "_view_module": "@jupyter-widgets/base",
            "_view_module_version": "1.2.0",
            "_view_name": "StyleView",
            "bar_color": null,
            "description_width": ""
          }
        },
        "c7c844fe45c4458085cc6c253452f438": {
          "model_module": "@jupyter-widgets/base",
          "model_name": "LayoutModel",
          "model_module_version": "1.2.0",
          "state": {
            "_model_module": "@jupyter-widgets/base",
            "_model_module_version": "1.2.0",
            "_model_name": "LayoutModel",
            "_view_count": null,
            "_view_module": "@jupyter-widgets/base",
            "_view_module_version": "1.2.0",
            "_view_name": "LayoutView",
            "align_content": null,
            "align_items": null,
            "align_self": null,
            "border": null,
            "bottom": null,
            "display": null,
            "flex": null,
            "flex_flow": null,
            "grid_area": null,
            "grid_auto_columns": null,
            "grid_auto_flow": null,
            "grid_auto_rows": null,
            "grid_column": null,
            "grid_gap": null,
            "grid_row": null,
            "grid_template_areas": null,
            "grid_template_columns": null,
            "grid_template_rows": null,
            "height": null,
            "justify_content": null,
            "justify_items": null,
            "left": null,
            "margin": null,
            "max_height": null,
            "max_width": null,
            "min_height": null,
            "min_width": null,
            "object_fit": null,
            "object_position": null,
            "order": null,
            "overflow": null,
            "overflow_x": null,
            "overflow_y": null,
            "padding": null,
            "right": null,
            "top": null,
            "visibility": null,
            "width": null
          }
        },
        "b801d884e8c44d2cbc40f19ac4385a86": {
          "model_module": "@jupyter-widgets/controls",
          "model_name": "DescriptionStyleModel",
          "model_module_version": "1.5.0",
          "state": {
            "_model_module": "@jupyter-widgets/controls",
            "_model_module_version": "1.5.0",
            "_model_name": "DescriptionStyleModel",
            "_view_count": null,
            "_view_module": "@jupyter-widgets/base",
            "_view_module_version": "1.2.0",
            "_view_name": "StyleView",
            "description_width": ""
          }
        }
      }
    }
  },
  "nbformat": 4,
  "nbformat_minor": 5
}